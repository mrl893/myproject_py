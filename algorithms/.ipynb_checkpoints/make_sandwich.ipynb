{
 "cells": [
  {
   "cell_type": "code",
   "execution_count": 22,
   "metadata": {},
   "outputs": [],
   "source": [
    "def make_sandwich(knife, bread, pd, J):\n",
    "    slice1 = knife.spread(bread[0], pb)\n",
    "    slice2  = knife.spread(bread[1],j)\n",
    "    sandwich = [slice1, slice2]\n",
    "    return sandwich"
   ]
  },
  {
   "cell_type": "code",
   "execution_count": 29,
   "metadata": {},
   "outputs": [],
   "source": [
    "def binary_search(lists, item):\n",
    "    low  = 0\n",
    "    high = len(lists) -1\n",
    "    while low <= high:\n",
    "        mid = (low + high) // 2\n",
    "        guess = lists[mid]\n",
    "        \n",
    "        if guess == item:\n",
    "            return mid\n",
    "        if guess > item:\n",
    "            high = mid -1\n",
    "        else:\n",
    "            low = mid +1\n",
    "    return None   "
   ]
  },
  {
   "cell_type": "code",
   "execution_count": 30,
   "metadata": {},
   "outputs": [],
   "source": [
    "my_binary_list = [11,22,33,44,55,66,77,88,99]"
   ]
  },
  {
   "cell_type": "code",
   "execution_count": 31,
   "metadata": {},
   "outputs": [
    {
     "name": "stdout",
     "output_type": "stream",
     "text": [
      "None\n"
     ]
    }
   ],
   "source": [
    "print(binary_search(my_binary_list, -11))"
   ]
  },
  {
   "cell_type": "code",
   "execution_count": 32,
   "metadata": {},
   "outputs": [],
   "source": [
    "dicts = (\"knife\", \"bread\", \"pd\", \"j\")"
   ]
  },
  {
   "cell_type": "code",
   "execution_count": 37,
   "metadata": {},
   "outputs": [
    {
     "name": "stdout",
     "output_type": "stream",
     "text": [
      "<function make_sandwich at 0x7fec895dde60> ('knife', 'bread', 'pd', 'j')\n"
     ]
    }
   ],
   "source": [
    "print(make_sandwich, dicts)"
   ]
  },
  {
   "cell_type": "code",
   "execution_count": null,
   "metadata": {},
   "outputs": [],
   "source": []
  }
 ],
 "metadata": {
  "kernelspec": {
   "display_name": "Python 3.7.7 64-bit",
   "language": "python",
   "name": "python37764bit8c63b45f76d74a909f3ea4b081c0c50b"
  },
  "language_info": {
   "codemirror_mode": {
    "name": "ipython",
    "version": 3
   },
   "file_extension": ".py",
   "mimetype": "text/x-python",
   "name": "python",
   "nbconvert_exporter": "python",
   "pygments_lexer": "ipython3",
   "version": "3.7.7"
  }
 },
 "nbformat": 4,
 "nbformat_minor": 4
}
